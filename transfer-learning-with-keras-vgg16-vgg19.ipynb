{
 "cells": [
  {
   "cell_type": "code",
   "execution_count": 1,
   "id": "c826fffa",
   "metadata": {
    "_cell_guid": "b1076dfc-b9ad-4769-8c92-a6c4dae69d19",
    "_uuid": "8f2839f25d086af736a60e9eeb907d3b93b6e0e5",
    "execution": {
     "iopub.execute_input": "2023-10-15T19:36:10.381176Z",
     "iopub.status.busy": "2023-10-15T19:36:10.380397Z",
     "iopub.status.idle": "2023-10-15T19:36:15.206595Z",
     "shell.execute_reply": "2023-10-15T19:36:15.205479Z"
    },
    "papermill": {
     "duration": 4.845386,
     "end_time": "2023-10-15T19:36:15.209005",
     "exception": false,
     "start_time": "2023-10-15T19:36:10.363619",
     "status": "completed"
    },
    "tags": []
   },
   "outputs": [
    {
     "name": "stderr",
     "output_type": "stream",
     "text": [
      "C:\\Users\\samee\\AppData\\Local\\Temp\\ipykernel_1928\\1811958503.py:3: DeprecationWarning: \n",
      "Pyarrow will become a required dependency of pandas in the next major release of pandas (pandas 3.0),\n",
      "(to allow more performant data types, such as the Arrow string type, and better interoperability with other libraries)\n",
      "but was not found to be installed on your system.\n",
      "If this would cause problems for you,\n",
      "please provide us feedback at https://github.com/pandas-dev/pandas/issues/54466\n",
      "        \n",
      "  import pandas as pd\n"
     ]
    },
    {
     "name": "stdout",
     "output_type": "stream",
     "text": [
      "WARNING:tensorflow:From c:\\Users\\samee\\anaconda3\\envs\\code\\Lib\\site-packages\\keras\\src\\losses.py:2976: The name tf.losses.sparse_softmax_cross_entropy is deprecated. Please use tf.compat.v1.losses.sparse_softmax_cross_entropy instead.\n",
      "\n"
     ]
    }
   ],
   "source": [
    "# Import Library\n",
    "import numpy as np \n",
    "import pandas as pd\n",
    "import matplotlib.pyplot as plt\n",
    "from glob import glob\n",
    "from keras.preprocessing.image import ImageDataGenerator, img_to_array, load_img\n",
    "from keras.models import Sequential\n",
    "from keras.layers import Dense\n",
    "from keras.applications.vgg16 import VGG16\n",
    "from keras.applications.vgg19 import VGG19\n",
    "import os\n",
    "\n",
    "import warnings\n",
    "warnings.filterwarnings(\"ignore\")"
   ]
  },
  {
   "cell_type": "code",
   "execution_count": 2,
   "id": "c824617e",
   "metadata": {},
   "outputs": [
    {
     "data": {
      "text/plain": [
       "'c:\\\\workFiles\\\\DS\\\\end_to_end\\\\Project_Nature\\\\project_nature'"
      ]
     },
     "execution_count": 2,
     "metadata": {},
     "output_type": "execute_result"
    }
   ],
   "source": [
    "%pwd"
   ]
  },
  {
   "cell_type": "code",
   "execution_count": 3,
   "id": "77e98682",
   "metadata": {
    "execution": {
     "iopub.execute_input": "2023-10-15T19:36:15.240550Z",
     "iopub.status.busy": "2023-10-15T19:36:15.240029Z",
     "iopub.status.idle": "2023-10-15T19:36:15.244732Z",
     "shell.execute_reply": "2023-10-15T19:36:15.243545Z"
    },
    "papermill": {
     "duration": 0.014876,
     "end_time": "2023-10-15T19:36:15.246553",
     "exception": false,
     "start_time": "2023-10-15T19:36:15.231677",
     "status": "completed"
    },
    "tags": []
   },
   "outputs": [],
   "source": [
    "# Test and Train path\n",
    "train_path = \"data/raw/seg_train\"\n",
    "test_path = \"data/raw/seg_test\"\n"
   ]
  },
  {
   "cell_type": "code",
   "execution_count": 12,
   "id": "3fe03d20",
   "metadata": {},
   "outputs": [
    {
     "data": {
      "text/plain": [
       "<keras.src.preprocessing.image.DirectoryIterator at 0x1fe83b8d390>"
      ]
     },
     "execution_count": 12,
     "metadata": {},
     "output_type": "execute_result"
    }
   ],
   "source": [
    "train_data"
   ]
  },
  {
   "cell_type": "code",
   "execution_count": 4,
   "id": "3f581625",
   "metadata": {
    "execution": {
     "iopub.execute_input": "2023-10-15T19:36:15.262590Z",
     "iopub.status.busy": "2023-10-15T19:36:15.262303Z",
     "iopub.status.idle": "2023-10-15T19:36:15.273558Z",
     "shell.execute_reply": "2023-10-15T19:36:15.272263Z"
    },
    "papermill": {
     "duration": 0.021308,
     "end_time": "2023-10-15T19:36:15.275323",
     "exception": false,
     "start_time": "2023-10-15T19:36:15.254015",
     "status": "completed"
    },
    "tags": []
   },
   "outputs": [
    {
     "name": "stdout",
     "output_type": "stream",
     "text": [
      "Number Of Class:  6\n"
     ]
    }
   ],
   "source": [
    "# The number of classes of dataset\n",
    "numberOfClass = len(glob(train_path + \"/*\"))\n",
    "print(\"Number Of Class: \", numberOfClass)"
   ]
  },
  {
   "cell_type": "code",
   "execution_count": null,
   "id": "2ccd922d",
   "metadata": {
    "execution": {
     "iopub.execute_input": "2023-10-15T19:36:15.291770Z",
     "iopub.status.busy": "2023-10-15T19:36:15.290966Z",
     "iopub.status.idle": "2023-10-15T19:36:15.441523Z",
     "shell.execute_reply": "2023-10-15T19:36:15.440578Z"
    },
    "papermill": {
     "duration": 0.164379,
     "end_time": "2023-10-15T19:36:15.447104",
     "exception": false,
     "start_time": "2023-10-15T19:36:15.282725",
     "status": "completed"
    },
    "tags": []
   },
   "outputs": [],
   "source": [
    "# Visualize\n",
    "img = load_img(train_path + \"buildings/0.jpg\")\n",
    "plt.imshow(img)\n",
    "plt.axis(\"off\")\n",
    "plt.show()"
   ]
  },
  {
   "cell_type": "code",
   "execution_count": 5,
   "id": "1a31a152",
   "metadata": {
    "execution": {
     "iopub.execute_input": "2023-10-15T19:36:15.480377Z",
     "iopub.status.busy": "2023-10-15T19:36:15.480086Z",
     "iopub.status.idle": "2023-10-15T19:36:15.485165Z",
     "shell.execute_reply": "2023-10-15T19:36:15.484274Z"
    },
    "papermill": {
     "duration": 0.018455,
     "end_time": "2023-10-15T19:36:15.487319",
     "exception": false,
     "start_time": "2023-10-15T19:36:15.468864",
     "status": "completed"
    },
    "tags": []
   },
   "outputs": [
    {
     "name": "stdout",
     "output_type": "stream",
     "text": [
      "(150, 150, 3)\n"
     ]
    }
   ],
   "source": [
    "# The images size in dataset.\n",
    "image_shape = img_to_array(img)\n",
    "print(image_shape.shape)"
   ]
  },
  {
   "cell_type": "code",
   "execution_count": 5,
   "id": "e400090c",
   "metadata": {
    "execution": {
     "iopub.execute_input": "2023-10-15T19:36:15.505764Z",
     "iopub.status.busy": "2023-10-15T19:36:15.504946Z",
     "iopub.status.idle": "2023-10-15T19:36:30.619451Z",
     "shell.execute_reply": "2023-10-15T19:36:30.617960Z"
    },
    "papermill": {
     "duration": 15.125916,
     "end_time": "2023-10-15T19:36:30.621571",
     "exception": false,
     "start_time": "2023-10-15T19:36:15.495655",
     "status": "completed"
    },
    "tags": []
   },
   "outputs": [
    {
     "name": "stdout",
     "output_type": "stream",
     "text": [
      "Found 14034 images belonging to 6 classes.\n",
      "Found 3000 images belonging to 6 classes.\n"
     ]
    }
   ],
   "source": [
    "# Prepare the datasef for vgg16\n",
    "train_data = ImageDataGenerator().flow_from_directory(train_path, target_size = (224,224))\n",
    "test_data = ImageDataGenerator().flow_from_directory(test_path, target_size = (224,224))"
   ]
  },
  {
   "cell_type": "markdown",
   "id": "7e637683",
   "metadata": {
    "papermill": {
     "duration": 0.008607,
     "end_time": "2023-10-15T19:36:30.639067",
     "exception": false,
     "start_time": "2023-10-15T19:36:30.630460",
     "status": "completed"
    },
    "tags": []
   },
   "source": [
    "## Visualization <a id =\"1a\"></a>\n",
    "[Go Content](#cont)\n",
    "\n",
    "In this chapter, I visualized a few images in the dataset."
   ]
  },
  {
   "cell_type": "code",
   "execution_count": null,
   "id": "a16b5ae7",
   "metadata": {
    "execution": {
     "iopub.execute_input": "2023-10-15T19:36:30.657342Z",
     "iopub.status.busy": "2023-10-15T19:36:30.657018Z",
     "iopub.status.idle": "2023-10-15T19:36:31.686000Z",
     "shell.execute_reply": "2023-10-15T19:36:31.684599Z"
    },
    "papermill": {
     "duration": 1.041827,
     "end_time": "2023-10-15T19:36:31.689468",
     "exception": false,
     "start_time": "2023-10-15T19:36:30.647641",
     "status": "completed"
    },
    "tags": []
   },
   "outputs": [],
   "source": [
    "for i in os.listdir(train_path):\n",
    "    for j in os.listdir(train_path + i):\n",
    "        img = load_img(train_path + i + \"/\" + j)\n",
    "        plt.imshow(img)\n",
    "        plt.title(i)\n",
    "        plt.axis(\"off\")\n",
    "        plt.show()\n",
    "        break"
   ]
  },
  {
   "cell_type": "code",
   "execution_count": 6,
   "id": "979a8479",
   "metadata": {
    "execution": {
     "iopub.execute_input": "2023-10-15T19:36:31.810160Z",
     "iopub.status.busy": "2023-10-15T19:36:31.809824Z",
     "iopub.status.idle": "2023-10-15T19:36:55.305621Z",
     "shell.execute_reply": "2023-10-15T19:36:55.304538Z"
    },
    "papermill": {
     "duration": 23.517545,
     "end_time": "2023-10-15T19:36:55.307844",
     "exception": false,
     "start_time": "2023-10-15T19:36:31.790299",
     "status": "completed"
    },
    "tags": []
   },
   "outputs": [
    {
     "name": "stdout",
     "output_type": "stream",
     "text": [
      "WARNING:tensorflow:From c:\\Users\\samee\\anaconda3\\envs\\code\\Lib\\site-packages\\keras\\src\\backend.py:1398: The name tf.executing_eagerly_outside_functions is deprecated. Please use tf.compat.v1.executing_eagerly_outside_functions instead.\n",
      "\n",
      "WARNING:tensorflow:From c:\\Users\\samee\\anaconda3\\envs\\code\\Lib\\site-packages\\keras\\src\\layers\\pooling\\max_pooling2d.py:161: The name tf.nn.max_pool is deprecated. Please use tf.nn.max_pool2d instead.\n",
      "\n"
     ]
    }
   ],
   "source": [
    "# Import model\n",
    "vgg16 = VGG16()"
   ]
  },
  {
   "cell_type": "code",
   "execution_count": null,
   "id": "95d493b2",
   "metadata": {
    "execution": {
     "iopub.execute_input": "2023-10-15T19:36:55.374572Z",
     "iopub.status.busy": "2023-10-15T19:36:55.373895Z",
     "iopub.status.idle": "2023-10-15T19:36:55.382620Z",
     "shell.execute_reply": "2023-10-15T19:36:55.380981Z"
    },
    "papermill": {
     "duration": 0.043592,
     "end_time": "2023-10-15T19:36:55.384534",
     "exception": false,
     "start_time": "2023-10-15T19:36:55.340942",
     "status": "completed"
    },
    "tags": []
   },
   "outputs": [],
   "source": [
    "# Layers of vgg16 \n",
    "vgg16.summary()"
   ]
  },
  {
   "cell_type": "code",
   "execution_count": 7,
   "id": "c268e68b",
   "metadata": {
    "execution": {
     "iopub.execute_input": "2023-10-15T19:36:55.449680Z",
     "iopub.status.busy": "2023-10-15T19:36:55.448740Z",
     "iopub.status.idle": "2023-10-15T19:36:55.455933Z",
     "shell.execute_reply": "2023-10-15T19:36:55.454620Z"
    },
    "papermill": {
     "duration": 0.041674,
     "end_time": "2023-10-15T19:36:55.457924",
     "exception": false,
     "start_time": "2023-10-15T19:36:55.416250",
     "status": "completed"
    },
    "tags": []
   },
   "outputs": [
    {
     "name": "stdout",
     "output_type": "stream",
     "text": [
      "<keras.src.engine.input_layer.InputLayer object at 0x000001ACC19347D0>\n",
      "<keras.src.layers.convolutional.conv2d.Conv2D object at 0x000001ACC6DD6010>\n",
      "<keras.src.layers.convolutional.conv2d.Conv2D object at 0x000001ACDFD3B810>\n",
      "<keras.src.layers.pooling.max_pooling2d.MaxPooling2D object at 0x000001ACBE706B90>\n",
      "<keras.src.layers.convolutional.conv2d.Conv2D object at 0x000001ACDFDDD850>\n",
      "<keras.src.layers.convolutional.conv2d.Conv2D object at 0x000001ACC6E8C1D0>\n",
      "<keras.src.layers.pooling.max_pooling2d.MaxPooling2D object at 0x000001ACDCF6FE50>\n",
      "<keras.src.layers.convolutional.conv2d.Conv2D object at 0x000001ACDFCFB1D0>\n",
      "<keras.src.layers.convolutional.conv2d.Conv2D object at 0x000001ACDFD41050>\n",
      "<keras.src.layers.convolutional.conv2d.Conv2D object at 0x000001ACC6AB6890>\n",
      "<keras.src.layers.pooling.max_pooling2d.MaxPooling2D object at 0x000001ACC6EB7390>\n",
      "<keras.src.layers.convolutional.conv2d.Conv2D object at 0x000001ACDFD07CD0>\n",
      "<keras.src.layers.convolutional.conv2d.Conv2D object at 0x000001ACDFD59110>\n",
      "<keras.src.layers.convolutional.conv2d.Conv2D object at 0x000001ACDFD0B010>\n",
      "<keras.src.layers.pooling.max_pooling2d.MaxPooling2D object at 0x000001ACC6AA9A50>\n",
      "<keras.src.layers.convolutional.conv2d.Conv2D object at 0x000001ACDFD10410>\n",
      "<keras.src.layers.convolutional.conv2d.Conv2D object at 0x000001ACDFD1B950>\n",
      "<keras.src.layers.convolutional.conv2d.Conv2D object at 0x000001ACDFD53150>\n",
      "<keras.src.layers.pooling.max_pooling2d.MaxPooling2D object at 0x000001ACDFD1E050>\n",
      "<keras.src.layers.reshaping.flatten.Flatten object at 0x000001ACA7068AD0>\n",
      "<keras.src.layers.core.dense.Dense object at 0x000001ACDFD33250>\n",
      "<keras.src.layers.core.dense.Dense object at 0x000001ACDFD61D90>\n",
      "<keras.src.layers.core.dense.Dense object at 0x000001ACDFD389D0>\n"
     ]
    }
   ],
   "source": [
    "# layers of vgg16\n",
    "vgg16_layer_list = vgg16.layers\n",
    "for i in vgg16_layer_list:\n",
    "    print(i)"
   ]
  },
  {
   "cell_type": "code",
   "execution_count": 8,
   "id": "8afdc953",
   "metadata": {
    "execution": {
     "iopub.execute_input": "2023-10-15T19:36:55.523211Z",
     "iopub.status.busy": "2023-10-15T19:36:55.522853Z",
     "iopub.status.idle": "2023-10-15T19:36:55.606932Z",
     "shell.execute_reply": "2023-10-15T19:36:55.605930Z"
    },
    "papermill": {
     "duration": 0.119605,
     "end_time": "2023-10-15T19:36:55.609155",
     "exception": false,
     "start_time": "2023-10-15T19:36:55.489550",
     "status": "completed"
    },
    "tags": []
   },
   "outputs": [],
   "source": [
    "# add the layers of vgg16 in my created model.\n",
    "vgg16Model = Sequential()\n",
    "for i in range(len(vgg16_layer_list)-1):\n",
    "    vgg16Model.add(vgg16_layer_list[i])"
   ]
  },
  {
   "cell_type": "code",
   "execution_count": null,
   "id": "a1811e44",
   "metadata": {
    "execution": {
     "iopub.execute_input": "2023-10-15T19:36:55.676857Z",
     "iopub.status.busy": "2023-10-15T19:36:55.675972Z",
     "iopub.status.idle": "2023-10-15T19:36:55.683636Z",
     "shell.execute_reply": "2023-10-15T19:36:55.682643Z"
    },
    "papermill": {
     "duration": 0.043085,
     "end_time": "2023-10-15T19:36:55.685523",
     "exception": false,
     "start_time": "2023-10-15T19:36:55.642438",
     "status": "completed"
    },
    "tags": []
   },
   "outputs": [],
   "source": [
    "# the final version of the model\n",
    "vgg16Model.summary()"
   ]
  },
  {
   "cell_type": "code",
   "execution_count": 9,
   "id": "fe8e12fd",
   "metadata": {
    "execution": {
     "iopub.execute_input": "2023-10-15T19:36:55.750773Z",
     "iopub.status.busy": "2023-10-15T19:36:55.749876Z",
     "iopub.status.idle": "2023-10-15T19:36:55.755186Z",
     "shell.execute_reply": "2023-10-15T19:36:55.754162Z"
    },
    "papermill": {
     "duration": 0.040547,
     "end_time": "2023-10-15T19:36:55.757062",
     "exception": false,
     "start_time": "2023-10-15T19:36:55.716515",
     "status": "completed"
    },
    "tags": []
   },
   "outputs": [],
   "source": [
    "# Close the layers of vgg16\n",
    "for layers in vgg16Model.layers:\n",
    "    layers.trainable = False"
   ]
  },
  {
   "cell_type": "code",
   "execution_count": 10,
   "id": "86aeb249",
   "metadata": {
    "execution": {
     "iopub.execute_input": "2023-10-15T19:36:55.822108Z",
     "iopub.status.busy": "2023-10-15T19:36:55.821469Z",
     "iopub.status.idle": "2023-10-15T19:36:55.835766Z",
     "shell.execute_reply": "2023-10-15T19:36:55.834811Z"
    },
    "papermill": {
     "duration": 0.049427,
     "end_time": "2023-10-15T19:36:55.837676",
     "exception": false,
     "start_time": "2023-10-15T19:36:55.788249",
     "status": "completed"
    },
    "tags": []
   },
   "outputs": [],
   "source": [
    "# Last layer\n",
    "vgg16Model.add(Dense(numberOfClass, activation = \"softmax\"))"
   ]
  },
  {
   "cell_type": "code",
   "execution_count": null,
   "id": "3a28294e",
   "metadata": {
    "execution": {
     "iopub.execute_input": "2023-10-15T19:36:55.907137Z",
     "iopub.status.busy": "2023-10-15T19:36:55.906813Z",
     "iopub.status.idle": "2023-10-15T19:36:55.913809Z",
     "shell.execute_reply": "2023-10-15T19:36:55.912830Z"
    },
    "papermill": {
     "duration": 0.045414,
     "end_time": "2023-10-15T19:36:55.916467",
     "exception": false,
     "start_time": "2023-10-15T19:36:55.871053",
     "status": "completed"
    },
    "tags": []
   },
   "outputs": [],
   "source": [
    "# After I added last layer in created model.\n",
    "vgg16Model.summary()"
   ]
  },
  {
   "cell_type": "code",
   "execution_count": 11,
   "id": "73f5e53d",
   "metadata": {
    "execution": {
     "iopub.execute_input": "2023-10-15T19:36:55.983663Z",
     "iopub.status.busy": "2023-10-15T19:36:55.983319Z",
     "iopub.status.idle": "2023-10-15T19:36:55.996323Z",
     "shell.execute_reply": "2023-10-15T19:36:55.995262Z"
    },
    "papermill": {
     "duration": 0.049064,
     "end_time": "2023-10-15T19:36:55.998320",
     "exception": false,
     "start_time": "2023-10-15T19:36:55.949256",
     "status": "completed"
    },
    "tags": []
   },
   "outputs": [
    {
     "name": "stdout",
     "output_type": "stream",
     "text": [
      "WARNING:tensorflow:From c:\\Users\\samee\\anaconda3\\envs\\code\\Lib\\site-packages\\keras\\src\\optimizers\\__init__.py:309: The name tf.train.Optimizer is deprecated. Please use tf.compat.v1.train.Optimizer instead.\n",
      "\n"
     ]
    }
   ],
   "source": [
    "# I create compile part.\n",
    "vgg16Model.compile(loss = \"categorical_crossentropy\",\n",
    "             optimizer = \"rmsprop\",\n",
    "             metrics = [\"accuracy\"])"
   ]
  },
  {
   "cell_type": "markdown",
   "id": "119bb51b",
   "metadata": {
    "papermill": {
     "duration": 0.031821,
     "end_time": "2023-10-15T19:36:56.061451",
     "exception": false,
     "start_time": "2023-10-15T19:36:56.029630",
     "status": "completed"
    },
    "tags": []
   },
   "source": [
    "## Training Model <a id = \"2b\"></a>\n",
    "[Go Content](#cont)\n",
    "\n",
    "In this chapter, I am training with the model at the dataset, and after, I saved the weight of the model."
   ]
  },
  {
   "cell_type": "code",
   "execution_count": 13,
   "id": "b2af776b",
   "metadata": {
    "execution": {
     "iopub.execute_input": "2023-10-15T19:36:56.127890Z",
     "iopub.status.busy": "2023-10-15T19:36:56.126812Z",
     "iopub.status.idle": "2023-10-15T19:39:53.652843Z",
     "shell.execute_reply": "2023-10-15T19:39:53.651929Z"
    },
    "papermill": {
     "duration": 177.561654,
     "end_time": "2023-10-15T19:39:53.654897",
     "exception": false,
     "start_time": "2023-10-15T19:36:56.093243",
     "status": "completed"
    },
    "tags": []
   },
   "outputs": [
    {
     "name": "stdout",
     "output_type": "stream",
     "text": [
      "50/50 [==============================] - 202s 4s/step - loss: 0.6351 - accuracy: 0.7944 - val_loss: 0.5232 - val_accuracy: 0.8087\n"
     ]
    }
   ],
   "source": [
    "# Traning with model\n",
    "batch_size = 32\n",
    "\n",
    "hist_vgg16 = vgg16Model.fit_generator(train_data, \n",
    "                                      steps_per_epoch = 1600 // batch_size, \n",
    "                                      epochs = 1, \n",
    "                                      validation_data = test_data, \n",
    "                                      validation_steps = 800 // batch_size)"
   ]
  },
  {
   "cell_type": "code",
   "execution_count": 16,
   "id": "17f35cc4",
   "metadata": {},
   "outputs": [],
   "source": [
    "vgg16Model.save(\"model.h5\")"
   ]
  },
  {
   "cell_type": "code",
   "execution_count": 18,
   "id": "ec208dd5",
   "metadata": {
    "execution": {
     "iopub.execute_input": "2023-10-15T19:39:53.764333Z",
     "iopub.status.busy": "2023-10-15T19:39:53.763983Z",
     "iopub.status.idle": "2023-10-15T19:39:54.994967Z",
     "shell.execute_reply": "2023-10-15T19:39:54.993932Z"
    },
    "papermill": {
     "duration": 1.287387,
     "end_time": "2023-10-15T19:39:54.997285",
     "exception": false,
     "start_time": "2023-10-15T19:39:53.709898",
     "status": "completed"
    },
    "tags": []
   },
   "outputs": [],
   "source": [
    "# Save the weights of model\n",
    "vgg16Model.save_weights(\"deneme.h5\")"
   ]
  },
  {
   "cell_type": "markdown",
   "id": "83cf7648",
   "metadata": {
    "papermill": {
     "duration": 0.052697,
     "end_time": "2023-10-15T19:39:55.104647",
     "exception": false,
     "start_time": "2023-10-15T19:39:55.051950",
     "status": "completed"
    },
    "tags": []
   },
   "source": [
    "## Visualize The Result Of Model <a id = \"2c\"></a>\n",
    "[Go Content](#cont)\n",
    "\n",
    "In this chapter, I visualized the result of the vgg16 model."
   ]
  },
  {
   "cell_type": "code",
   "execution_count": 15,
   "id": "ac0d49e1",
   "metadata": {
    "execution": {
     "iopub.execute_input": "2023-10-15T19:39:55.212713Z",
     "iopub.status.busy": "2023-10-15T19:39:55.211631Z",
     "iopub.status.idle": "2023-10-15T19:39:55.408618Z",
     "shell.execute_reply": "2023-10-15T19:39:55.407697Z"
    },
    "papermill": {
     "duration": 0.253369,
     "end_time": "2023-10-15T19:39:55.410540",
     "exception": false,
     "start_time": "2023-10-15T19:39:55.157171",
     "status": "completed"
    },
    "tags": []
   },
   "outputs": [
    {
     "data": {
      "image/png": "[encoded data removed]",
      "text/plain": [
       "<Figure size 640x480 with 1 Axes>"
      ]
     },
     "metadata": {},
     "output_type": "display_data"
    }
   ],
   "source": [
    "# Loss and Validation Loss\n",
    "plt.plot(hist_vgg16.history[\"loss\"], label = \"training loss\")\n",
    "plt.plot(hist_vgg16.history[\"val_loss\"], label = \"validation loss\")\n",
    "plt.legend()\n",
    "plt.show()"
   ]
  },
  {
   "cell_type": "code",
   "execution_count": 20,
   "id": "b4974133",
   "metadata": {
    "execution": {
     "iopub.execute_input": "2023-10-15T19:39:55.519438Z",
     "iopub.status.busy": "2023-10-15T19:39:55.518723Z",
     "iopub.status.idle": "2023-10-15T19:39:55.707602Z",
     "shell.execute_reply": "2023-10-15T19:39:55.706711Z"
    },
    "papermill": {
     "duration": 0.245499,
     "end_time": "2023-10-15T19:39:55.709481",
     "exception": false,
     "start_time": "2023-10-15T19:39:55.463982",
     "status": "completed"
    },
    "tags": []
   },
   "outputs": [
    {
     "data": {
      "image/png": "[encoded data removed]",
      "text/plain": [
       "<Figure size 432x288 with 1 Axes>"
      ]
     },
     "metadata": {
      "needs_background": "light"
     },
     "output_type": "display_data"
    }
   ],
   "source": [
    "# Accuracy and Validation Accuracy\n",
    "plt.plot(hist_vgg16.history[\"accuracy\"], label = \"accuracy\")\n",
    "plt.plot(hist_vgg16.history[\"val_accuracy\"], label = \"validation accuracy\")\n",
    "plt.legend()\n",
    "plt.show()"
   ]
  },
  {
   "cell_type": "markdown",
   "id": "270e9d5c",
   "metadata": {
    "papermill": {
     "duration": 0.05531,
     "end_time": "2023-10-15T19:39:55.818807",
     "exception": false,
     "start_time": "2023-10-15T19:39:55.763497",
     "status": "completed"
    },
    "tags": []
   },
   "source": [
    "## Save And Load Result <a id = \"2d\"></a>\n",
    "[Go Content](#cont)\n",
    "\n",
    "In this chapter, I registered the results of the model and after I read the result I saved again, I visualized its. I visualized it to see if I recorded it correctly."
   ]
  },
  {
   "cell_type": "markdown",
   "id": "0d44e107",
   "metadata": {
    "papermill": {
     "duration": 0.054688,
     "end_time": "2023-10-15T19:39:55.927346",
     "exception": false,
     "start_time": "2023-10-15T19:39:55.872658",
     "status": "completed"
    },
    "tags": []
   },
   "source": [
    "### Save Result <a id = \"2d1\"></a>\n",
    "[Go Content](#cont)\n",
    "\n",
    "In this chapter, I registered the result of the vgg16 model."
   ]
  },
  {
   "cell_type": "code",
   "execution_count": 21,
   "id": "ad1cb411",
   "metadata": {
    "execution": {
     "iopub.execute_input": "2023-10-15T19:39:56.038211Z",
     "iopub.status.busy": "2023-10-15T19:39:56.037851Z",
     "iopub.status.idle": "2023-10-15T19:39:56.043190Z",
     "shell.execute_reply": "2023-10-15T19:39:56.042351Z"
    },
    "papermill": {
     "duration": 0.063942,
     "end_time": "2023-10-15T19:39:56.045196",
     "exception": false,
     "start_time": "2023-10-15T19:39:55.981254",
     "status": "completed"
    },
    "tags": []
   },
   "outputs": [],
   "source": [
    "import json, codecs\n",
    "with open(\"deneme.json\",\"w\") as f:\n",
    "    json.dump(hist_vgg16.history, f)"
   ]
  },
  {
   "cell_type": "markdown",
   "id": "f3cbdc50",
   "metadata": {
    "papermill": {
     "duration": 0.053648,
     "end_time": "2023-10-15T19:39:56.152428",
     "exception": false,
     "start_time": "2023-10-15T19:39:56.098780",
     "status": "completed"
    },
    "tags": []
   },
   "source": [
    "### Load Result <a id = \"2d2\"></a>\n",
    "[Go Content](#cont)\n",
    "\n",
    "In this chaper, I read the result I saved again, I visualized its."
   ]
  },
  {
   "cell_type": "code",
   "execution_count": 22,
   "id": "a973c0f1",
   "metadata": {
    "execution": {
     "iopub.execute_input": "2023-10-15T19:39:56.263349Z",
     "iopub.status.busy": "2023-10-15T19:39:56.262979Z",
     "iopub.status.idle": "2023-10-15T19:39:56.268059Z",
     "shell.execute_reply": "2023-10-15T19:39:56.267084Z"
    },
    "papermill": {
     "duration": 0.063394,
     "end_time": "2023-10-15T19:39:56.270074",
     "exception": false,
     "start_time": "2023-10-15T19:39:56.206680",
     "status": "completed"
    },
    "tags": []
   },
   "outputs": [],
   "source": [
    "with codecs.open(\"./deneme.json\",\"r\", encoding = \"utf-8\") as f:\n",
    "    load_result = json.loads(f.read())"
   ]
  },
  {
   "cell_type": "code",
   "execution_count": null,
   "id": "3665a2e0",
   "metadata": {
    "execution": {
     "iopub.execute_input": "2023-10-15T19:39:56.379150Z",
     "iopub.status.busy": "2023-10-15T19:39:56.378837Z",
     "iopub.status.idle": "2023-10-15T19:39:56.385432Z",
     "shell.execute_reply": "2023-10-15T19:39:56.384413Z"
    },
    "papermill": {
     "duration": 0.063796,
     "end_time": "2023-10-15T19:39:56.387287",
     "exception": false,
     "start_time": "2023-10-15T19:39:56.323491",
     "status": "completed"
    },
    "tags": []
   },
   "outputs": [],
   "source": [
    "load_result"
   ]
  },
  {
   "cell_type": "code",
   "execution_count": 24,
   "id": "27fe89e1",
   "metadata": {
    "execution": {
     "iopub.execute_input": "2023-10-15T19:39:56.497807Z",
     "iopub.status.busy": "2023-10-15T19:39:56.496826Z",
     "iopub.status.idle": "2023-10-15T19:39:56.688141Z",
     "shell.execute_reply": "2023-10-15T19:39:56.687284Z"
    },
    "papermill": {
     "duration": 0.249721,
     "end_time": "2023-10-15T19:39:56.690012",
     "exception": false,
     "start_time": "2023-10-15T19:39:56.440291",
     "status": "completed"
    },
    "tags": []
   },
   "outputs": [
    {
     "data": {
      "image/png": "[encoded data removed]",
      "text/plain": [
       "<Figure size 432x288 with 1 Axes>"
      ]
     },
     "metadata": {
      "needs_background": "light"
     },
     "output_type": "display_data"
    }
   ],
   "source": [
    "# Loss And Validation Loss\n",
    "plt.plot(load_result[\"loss\"], label = \"training loss\")\n",
    "plt.plot(load_result[\"val_loss\"], label = \"validation loss\")\n",
    "plt.legend()\n",
    "plt.show()"
   ]
  },
  {
   "cell_type": "code",
   "execution_count": 25,
   "id": "0f57f03b",
   "metadata": {
    "execution": {
     "iopub.execute_input": "2023-10-15T19:39:56.803179Z",
     "iopub.status.busy": "2023-10-15T19:39:56.802854Z",
     "iopub.status.idle": "2023-10-15T19:39:56.991152Z",
     "shell.execute_reply": "2023-10-15T19:39:56.990287Z"
    },
    "papermill": {
     "duration": 0.246514,
     "end_time": "2023-10-15T19:39:56.993073",
     "exception": false,
     "start_time": "2023-10-15T19:39:56.746559",
     "status": "completed"
    },
    "tags": []
   },
   "outputs": [
    {
     "data": {
      "image/png": "[encoded data removed]",
      "text/plain": [
       "<Figure size 432x288 with 1 Axes>"
      ]
     },
     "metadata": {
      "needs_background": "light"
     },
     "output_type": "display_data"
    }
   ],
   "source": [
    "# Accuracy And Validation Accuracy\n",
    "plt.plot(load_result[\"accuracy\"], label = \"accuracy\")\n",
    "plt.plot(load_result[\"val_accuracy\"], label = \"validation accuracy\")\n",
    "plt.legend()\n",
    "plt.show()"
   ]
  },
  {
   "cell_type": "code",
   "execution_count": 26,
   "id": "bd43a198",
   "metadata": {
    "execution": {
     "iopub.execute_input": "2023-10-15T19:39:57.340437Z",
     "iopub.status.busy": "2023-10-15T19:39:57.340079Z",
     "iopub.status.idle": "2023-10-15T19:40:22.333761Z",
     "shell.execute_reply": "2023-10-15T19:40:22.332760Z"
    },
    "papermill": {
     "duration": 25.053312,
     "end_time": "2023-10-15T19:40:22.336022",
     "exception": false,
     "start_time": "2023-10-15T19:39:57.282710",
     "status": "completed"
    },
    "tags": []
   },
   "outputs": [
    {
     "name": "stdout",
     "output_type": "stream",
     "text": [
      "Downloading data from https://storage.googleapis.com/tensorflow/keras-applications/vgg19/vgg19_weights_tf_dim_ordering_tf_kernels.h5\n",
      "574717952/574710816 [==============================] - 24s 0us/step\n",
      "574726144/574710816 [==============================] - 24s 0us/step\n"
     ]
    }
   ],
   "source": [
    "# Import VGG19 model\n",
    "vgg19 = VGG19()"
   ]
  },
  {
   "cell_type": "code",
   "execution_count": null,
   "id": "195bd254",
   "metadata": {
    "execution": {
     "iopub.execute_input": "2023-10-15T19:40:22.477545Z",
     "iopub.status.busy": "2023-10-15T19:40:22.477157Z",
     "iopub.status.idle": "2023-10-15T19:40:22.484386Z",
     "shell.execute_reply": "2023-10-15T19:40:22.483428Z"
    },
    "papermill": {
     "duration": 0.080135,
     "end_time": "2023-10-15T19:40:22.486852",
     "exception": false,
     "start_time": "2023-10-15T19:40:22.406717",
     "status": "completed"
    },
    "tags": []
   },
   "outputs": [],
   "source": [
    "# Layers of vgg19\n",
    "vgg19.summary()"
   ]
  },
  {
   "cell_type": "code",
   "execution_count": null,
   "id": "c3ddb382",
   "metadata": {
    "execution": {
     "iopub.execute_input": "2023-10-15T19:40:22.625520Z",
     "iopub.status.busy": "2023-10-15T19:40:22.625165Z",
     "iopub.status.idle": "2023-10-15T19:40:22.631058Z",
     "shell.execute_reply": "2023-10-15T19:40:22.629934Z"
    },
    "papermill": {
     "duration": 0.079296,
     "end_time": "2023-10-15T19:40:22.633641",
     "exception": false,
     "start_time": "2023-10-15T19:40:22.554345",
     "status": "completed"
    },
    "tags": []
   },
   "outputs": [],
   "source": [
    "# Layers of vgg19 \n",
    "vgg19_layer_list = vgg19.layers\n",
    "for i in vgg19_layer_list:\n",
    "    print(i)"
   ]
  },
  {
   "cell_type": "code",
   "execution_count": 29,
   "id": "09b575c7",
   "metadata": {
    "execution": {
     "iopub.execute_input": "2023-10-15T19:40:22.770521Z",
     "iopub.status.busy": "2023-10-15T19:40:22.770167Z",
     "iopub.status.idle": "2023-10-15T19:40:22.867027Z",
     "shell.execute_reply": "2023-10-15T19:40:22.866136Z"
    },
    "papermill": {
     "duration": 0.168384,
     "end_time": "2023-10-15T19:40:22.868961",
     "exception": false,
     "start_time": "2023-10-15T19:40:22.700577",
     "status": "completed"
    },
    "tags": []
   },
   "outputs": [],
   "source": [
    "# add the layers of vgg16 in my created model.\n",
    "vgg19Model = Sequential()\n",
    "for i in range(len(vgg19_layer_list)-1):\n",
    "    vgg19Model.add(vgg19_layer_list[i])"
   ]
  },
  {
   "cell_type": "code",
   "execution_count": null,
   "id": "40ec786b",
   "metadata": {
    "execution": {
     "iopub.execute_input": "2023-10-15T19:40:23.122693Z",
     "iopub.status.busy": "2023-10-15T19:40:23.122254Z",
     "iopub.status.idle": "2023-10-15T19:40:23.133141Z",
     "shell.execute_reply": "2023-10-15T19:40:23.132269Z"
    },
    "papermill": {
     "duration": 0.144459,
     "end_time": "2023-10-15T19:40:23.135472",
     "exception": false,
     "start_time": "2023-10-15T19:40:22.991013",
     "status": "completed"
    },
    "tags": []
   },
   "outputs": [],
   "source": [
    "# Finish version of my created model.\n",
    "vgg19Model.summary()"
   ]
  },
  {
   "cell_type": "code",
   "execution_count": 31,
   "id": "209d9e4d",
   "metadata": {
    "execution": {
     "iopub.execute_input": "2023-10-15T19:40:23.462142Z",
     "iopub.status.busy": "2023-10-15T19:40:23.461463Z",
     "iopub.status.idle": "2023-10-15T19:40:23.468576Z",
     "shell.execute_reply": "2023-10-15T19:40:23.467749Z"
    },
    "papermill": {
     "duration": 0.209,
     "end_time": "2023-10-15T19:40:23.470719",
     "exception": false,
     "start_time": "2023-10-15T19:40:23.261719",
     "status": "completed"
    },
    "tags": []
   },
   "outputs": [],
   "source": [
    "# Close the layers of vgg16\n",
    "for layers in vgg19Model.layers:\n",
    "    layers.trainable = False"
   ]
  },
  {
   "cell_type": "code",
   "execution_count": 32,
   "id": "5051586c",
   "metadata": {
    "execution": {
     "iopub.execute_input": "2023-10-15T19:40:23.732646Z",
     "iopub.status.busy": "2023-10-15T19:40:23.732212Z",
     "iopub.status.idle": "2023-10-15T19:40:23.750338Z",
     "shell.execute_reply": "2023-10-15T19:40:23.749502Z"
    },
    "papermill": {
     "duration": 0.155271,
     "end_time": "2023-10-15T19:40:23.752804",
     "exception": false,
     "start_time": "2023-10-15T19:40:23.597533",
     "status": "completed"
    },
    "tags": []
   },
   "outputs": [],
   "source": [
    "# Last layer\n",
    "vgg19Model.add(Dense(numberOfClass, activation = \"softmax\"))"
   ]
  },
  {
   "cell_type": "code",
   "execution_count": null,
   "id": "641afcc3",
   "metadata": {
    "execution": {
     "iopub.execute_input": "2023-10-15T19:40:24.066527Z",
     "iopub.status.busy": "2023-10-15T19:40:24.065994Z",
     "iopub.status.idle": "2023-10-15T19:40:24.080305Z",
     "shell.execute_reply": "2023-10-15T19:40:24.079335Z"
    },
    "papermill": {
     "duration": 0.168518,
     "end_time": "2023-10-15T19:40:24.083006",
     "exception": false,
     "start_time": "2023-10-15T19:40:23.914488",
     "status": "completed"
    },
    "tags": []
   },
   "outputs": [],
   "source": [
    "# the final version of the model\n",
    "vgg19Model.summary()"
   ]
  },
  {
   "cell_type": "code",
   "execution_count": 34,
   "id": "6e5f3b6e",
   "metadata": {
    "execution": {
     "iopub.execute_input": "2023-10-15T19:40:24.360542Z",
     "iopub.status.busy": "2023-10-15T19:40:24.360101Z",
     "iopub.status.idle": "2023-10-15T19:40:24.373420Z",
     "shell.execute_reply": "2023-10-15T19:40:24.372567Z"
    },
    "papermill": {
     "duration": 0.155132,
     "end_time": "2023-10-15T19:40:24.375881",
     "exception": false,
     "start_time": "2023-10-15T19:40:24.220749",
     "status": "completed"
    },
    "tags": []
   },
   "outputs": [],
   "source": [
    "# I create compile part.\n",
    "vgg19Model.compile(loss = \"categorical_crossentropy\",\n",
    "             optimizer = \"rmsprop\",\n",
    "             metrics = [\"accuracy\"])"
   ]
  },
  {
   "cell_type": "markdown",
   "id": "883f20e3",
   "metadata": {
    "papermill": {
     "duration": 0.072265,
     "end_time": "2023-10-15T19:40:24.578853",
     "exception": false,
     "start_time": "2023-10-15T19:40:24.506588",
     "status": "completed"
    },
    "tags": []
   },
   "source": [
    "## Train Model <a id = \"3b\"></a>\n",
    "[Go Content](#cont)\n",
    "\n",
    "In this chapter, I am training with the model at the dataset, and after, I saved the weight of the model."
   ]
  },
  {
   "cell_type": "code",
   "execution_count": 35,
   "id": "a4e5f78e",
   "metadata": {
    "execution": {
     "iopub.execute_input": "2023-10-15T19:40:24.725121Z",
     "iopub.status.busy": "2023-10-15T19:40:24.724761Z",
     "iopub.status.idle": "2023-10-15T19:41:58.798967Z",
     "shell.execute_reply": "2023-10-15T19:41:58.797930Z"
    },
    "papermill": {
     "duration": 94.148161,
     "end_time": "2023-10-15T19:41:58.802047",
     "exception": false,
     "start_time": "2023-10-15T19:40:24.653886",
     "status": "completed"
    },
    "tags": []
   },
   "outputs": [
    {
     "name": "stdout",
     "output_type": "stream",
     "text": [
      "Epoch 1/10\n",
      "50/50 [==============================] - 10s 179ms/step - loss: 0.6645 - accuracy: 0.7756 - val_loss: 0.4839 - val_accuracy: 0.8300\n",
      "Epoch 2/10\n",
      "50/50 [==============================] - 8s 168ms/step - loss: 0.4335 - accuracy: 0.8450 - val_loss: 0.4562 - val_accuracy: 0.8687\n",
      "Epoch 3/10\n",
      "50/50 [==============================] - 8s 159ms/step - loss: 0.3635 - accuracy: 0.8662 - val_loss: 0.5627 - val_accuracy: 0.8200\n",
      "Epoch 4/10\n",
      "50/50 [==============================] - 8s 160ms/step - loss: 0.4020 - accuracy: 0.8745 - val_loss: 0.4076 - val_accuracy: 0.8763\n",
      "Epoch 5/10\n",
      "50/50 [==============================] - 8s 152ms/step - loss: 0.3939 - accuracy: 0.8701 - val_loss: 0.4427 - val_accuracy: 0.8687\n",
      "Epoch 6/10\n",
      "50/50 [==============================] - 7s 142ms/step - loss: 0.3845 - accuracy: 0.8769 - val_loss: 0.5100 - val_accuracy: 0.8487\n",
      "Epoch 7/10\n",
      "50/50 [==============================] - 7s 143ms/step - loss: 0.3218 - accuracy: 0.8963 - val_loss: 0.3566 - val_accuracy: 0.8863\n",
      "Epoch 8/10\n",
      "50/50 [==============================] - 7s 137ms/step - loss: 0.2919 - accuracy: 0.9092 - val_loss: 0.3732 - val_accuracy: 0.8825\n",
      "Epoch 9/10\n",
      "50/50 [==============================] - 7s 139ms/step - loss: 0.2949 - accuracy: 0.9112 - val_loss: 0.4050 - val_accuracy: 0.8675\n",
      "Epoch 10/10\n",
      "50/50 [==============================] - 7s 130ms/step - loss: 0.3275 - accuracy: 0.8844 - val_loss: 0.4462 - val_accuracy: 0.8775\n"
     ]
    }
   ],
   "source": [
    "# Training with my created model\n",
    "hisy_vgg19 = vgg19Model.fit_generator(train_data,\n",
    "                               steps_per_epoch = 1600 // batch_size,\n",
    "                               epochs = 10,\n",
    "                               validation_data = test_data,\n",
    "                               validation_steps = 800 // batch_size)"
   ]
  },
  {
   "cell_type": "markdown",
   "id": "f05c01d4",
   "metadata": {
    "papermill": {
     "duration": 0.160303,
     "end_time": "2023-10-15T19:41:59.144006",
     "exception": false,
     "start_time": "2023-10-15T19:41:58.983703",
     "status": "completed"
    },
    "tags": []
   },
   "source": [
    "## Visualize The Results Of Model <a id = \"3c\"></a>\n",
    "[Go Content](#cont)\n",
    "\n",
    "In this chapter, I visualized the result of the vgg19 model."
   ]
  },
  {
   "cell_type": "code",
   "execution_count": 36,
   "id": "e83915f0",
   "metadata": {
    "execution": {
     "iopub.execute_input": "2023-10-15T19:41:59.327737Z",
     "iopub.status.busy": "2023-10-15T19:41:59.327211Z",
     "iopub.status.idle": "2023-10-15T19:41:59.515964Z",
     "shell.execute_reply": "2023-10-15T19:41:59.515093Z"
    },
    "papermill": {
     "duration": 0.283606,
     "end_time": "2023-10-15T19:41:59.517864",
     "exception": false,
     "start_time": "2023-10-15T19:41:59.234258",
     "status": "completed"
    },
    "tags": []
   },
   "outputs": [
    {
     "data": {
      "image/png": "[encoded data removed]",
      "text/plain": [
       "<Figure size 432x288 with 1 Axes>"
      ]
     },
     "metadata": {
      "needs_background": "light"
     },
     "output_type": "display_data"
    }
   ],
   "source": [
    "# Loss And Validation Loss\n",
    "plt.plot(hisy_vgg19.history[\"loss\"], label = \"training loss\")\n",
    "plt.plot(hisy_vgg19.history[\"val_loss\"], label = \"validation loss\")\n",
    "plt.legend()\n",
    "plt.show()"
   ]
  },
  {
   "cell_type": "code",
   "execution_count": 37,
   "id": "de757dc7",
   "metadata": {
    "execution": {
     "iopub.execute_input": "2023-10-15T19:41:59.700483Z",
     "iopub.status.busy": "2023-10-15T19:41:59.700111Z",
     "iopub.status.idle": "2023-10-15T19:41:59.882090Z",
     "shell.execute_reply": "2023-10-15T19:41:59.881228Z"
    },
    "papermill": {
     "duration": 0.275292,
     "end_time": "2023-10-15T19:41:59.884035",
     "exception": false,
     "start_time": "2023-10-15T19:41:59.608743",
     "status": "completed"
    },
    "tags": []
   },
   "outputs": [
    {
     "data": {
      "image/png": "[encoded data removed]",
      "text/plain": [
       "<Figure size 432x288 with 1 Axes>"
      ]
     },
     "metadata": {
      "needs_background": "light"
     },
     "output_type": "display_data"
    }
   ],
   "source": [
    "# Accuracy And Validation Accuracy\n",
    "plt.plot(hisy_vgg19.history[\"accuracy\"], label = \"accuracy\")\n",
    "plt.plot(hisy_vgg19.history[\"val_accuracy\"], label = \"validation accuracy\")\n",
    "plt.legend()\n",
    "plt.show()"
   ]
  },
  {
   "cell_type": "markdown",
   "id": "7ed9cb23",
   "metadata": {
    "papermill": {
     "duration": 0.089434,
     "end_time": "2023-10-15T19:42:00.063597",
     "exception": false,
     "start_time": "2023-10-15T19:41:59.974163",
     "status": "completed"
    },
    "tags": []
   },
   "source": [
    "# CONCLUSION <a id = \"4\"></a>\n",
    "---\n",
    "[Go Content](#cont)\n",
    "\n",
    "I am learning the English language newly if I make an errata please advise me in the comment. Thank you for reading my notebook, your votes and your comments. I will be waiting for your advice."
   ]
  },
  {
   "cell_type": "code",
   "execution_count": null,
   "id": "9a9dcc9a",
   "metadata": {},
   "outputs": [],
   "source": [
    "from keras.preprocessing.image import load_img, img_to_array\n",
    "from keras.applications.vgg16 import preprocess_input\n",
    "import numpy as np\n",
    "\n",
    "\n",
    "def predict_image(model, image_path):\n",
    "    \n",
    "\n",
    "    # Load the image\n",
    "    img = load_img(image_path, target_size=(224, 224))\n",
    "    img_array = img_to_array(img)\n",
    "    img_array = np.expand_dims(img_array, axis=0)\n",
    "    img_array = preprocess_input(img_array)\n",
    "\n",
    "    # Make predictions\n",
    "    predictions = model.predict(img_array)\n",
    "    predicted_class = np.argmax(predictions)\n",
    "\n",
    "    # You can map the predicted class index to your actual class labels here\n",
    "    # For example, if you have a list of class labels [\"cat\", \"dog\", \"flower\"], you can do:\n",
    "    # class_labels = [\"class1\", \"class2\", \"class3\"]  # Replace with your actual class labels\n",
    "    # predicted_label = class_labels[predicted_class]\n",
    "\n",
    "    return predicted_class\n",
    "\n",
    "# Example usage:\n",
    "image_path = \"20329.jpg\"\n",
    "predicted_class = predict_image(vgg16Model, image_path)\n",
    "print(f\"Predicted class: {predicted_class}\")\n"
   ]
  }
 ],
 "metadata": {
  "kernelspec": {
   "display_name": "Python 3",
   "language": "python",
   "name": "python3"
  },
  "language_info": {
   "codemirror_mode": {
    "name": "ipython",
    "version": 3
   },
   "file_extension": ".py",
   "mimetype": "text/x-python",
   "name": "python",
   "nbconvert_exporter": "python",
   "pygments_lexer": "ipython3",
   "version": "3.11.8"
  },
  "papermill": {
   "default_parameters": {},
   "duration": 360.400069,
   "end_time": "2023-10-15T19:42:03.686980",
   "environment_variables": {},
   "exception": null,
   "input_path": "__notebook__.ipynb",
   "output_path": "__notebook__.ipynb",
   "parameters": {},
   "start_time": "2023-10-15T19:36:03.286911",
   "version": "2.3.4"
  }
 },
 "nbformat": 4,
 "nbformat_minor": 5
}
